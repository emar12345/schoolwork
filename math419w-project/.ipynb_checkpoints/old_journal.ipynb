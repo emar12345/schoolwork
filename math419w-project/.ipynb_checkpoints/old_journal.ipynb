{
 "cells": [
  {
   "cell_type": "code",
   "execution_count": 2,
   "metadata": {
    "pycharm": {
     "name": "#%%\n"
    }
   },
   "outputs": [],
   "source": [
    "import numpy as np\n",
    "import cv2\n",
    "import matplotlib.pyplot as plt\n",
    "import scipy.signal\n",
    "from numpy.random import default_rng"
   ]
  },
  {
   "cell_type": "markdown",
   "metadata": {
    "pycharm": {
     "name": "#%% md\n"
    }
   },
   "source": [
    "some stuff from dr. ross and my histogram tool"
   ]
  },
  {
   "cell_type": "code",
   "execution_count": 10,
   "metadata": {
    "pycharm": {
     "name": "#%%\n"
    }
   },
   "outputs": [],
   "source": [
    "def generate_gaussian_with_2d_moving_avg(img, rng, correlation_scale: int = 10):\n",
    "    # By \"moving average\" I am allowing bell-curve-shaped weighting,\n",
    "    # rather than simple mean of nearby pixels.\n",
    "    # Results will have a mean of 0, StdDev of 1, I think.\n",
    "    # To turn that into multicative noise for speckle, do 1.0+sigma_for_noise*results\n",
    "    # Compute filter kernel with radius correlation_scale\n",
    "    x = np.arange(-correlation_scale, correlation_scale)\n",
    "    y = np.arange(-correlation_scale, correlation_scale)\n",
    "    X, Y = np.meshgrid(x, y)\n",
    "    dist = np.sqrt(X * X + Y * Y)\n",
    "    filter_kernel = np.exp(-dist ** 2 / (2 * correlation_scale))\n",
    "\n",
    "    # Generate grid of spatially correlated noise, same size as img.\n",
    "    noise0 = rng.normal(loc=0.0, scale=1.0, size=img.shape)\n",
    "    # Now do the moving average.\n",
    "    noise = scipy.signal.fftconvolve(noise0, filter_kernel, mode='same')\n",
    "    # and, standarize:\n",
    "    noise = (noise - np.mean(noise)) / np.std(noise)\n",
    "    return noise, noise0, filter_kernel  # probably won't need noise0 and filter_kernel though.\n",
    "\n",
    "\n",
    "def do_speckle(img, rng, correlation_scale: int = 10, let_vals_above_255_go_dark=False, speckle_slope=-0.0011,\n",
    "               speckle_intercept=0.272):\n",
    "    g2d, wn, krnl = generate_gaussian_with_2d_moving_avg(img, rng, int(correlation_scale))\n",
    "    # Next, the simple way: use the same sigma everywhere.\n",
    "    # g2dspeckle = 1.0+s_for_gauss_speckle*g2d # turn N(0,1) values into values near 1.0, like 0.92 or 1.09ish\n",
    "\n",
    "    # Or a fancier version: use a different sigma in regions that are darker vs lighter.\n",
    "    # We found in apb_image_segmentation_v03a that this approximate relationship holds between\n",
    "    # pixel intensity (0-to-255): relative SD as a fraction (like 0.19 not 19(%))\n",
    "    # being linear using the default slope and intercept.\n",
    "    # Feel free to set tmpslope to 0 to make relative SD not depend on intensity.\n",
    "    g2dspeckle = 1.0 + (speckle_slope * img + speckle_intercept) * g2d\n",
    "    # TODO: debug this. Haven't debugged it yet.\n",
    "\n",
    "    img2 = g2dspeckle * img  # actually apply the speckle.\n",
    "    if not let_vals_above_255_go_dark:\n",
    "        img2 = np.minimum(img2, 255 * np.ones_like(img2))\n",
    "    # Also, some pixels might have gone below 0, which is always bad.\n",
    "    # Turn any negatives back to 0:\n",
    "    img2 = np.maximum(img2, np.zeros_like(img2))\n",
    "    return img2\n",
    "\n",
    "\n",
    "# end section stolen from prof ross\n",
    "\n",
    "def kitchen_sink_stats(img, label):\n",
    "    \"\"\"\n",
    "    given image and label, return normalized histogram and pdf of image w/label\n",
    "    :param img:\n",
    "    :param label:\n",
    "    :return plt:\n",
    "    \"\"\"\n",
    "    histogram, bins = np.histogram(img.ravel(), 256, [0, 256])\n",
    "    pdf = histogram / np.sum(histogram)\n",
    "    fig, axs = plt.subplots()\n",
    "    axs.plot(pdf, color='r')\n",
    "    axs.hist(img.ravel(), bins=256, range=[0, 256], density=True)\n",
    "    axs.set_title('Histogram of ' + label)\n",
    "    axs.set_xlabel('Pixel Values')\n",
    "    axs.set_ylabel('Frequency')\n",
    "    return plt\n"
   ]
  },
  {
   "cell_type": "markdown",
   "metadata": {
    "pycharm": {
     "name": "#%% md\n"
    }
   },
   "source": [
    "import test image, divide test image into my subsections"
   ]
  },
  {
   "cell_type": "code",
   "execution_count": 3,
   "metadata": {
    "pycharm": {
     "name": "#%%\n"
    }
   },
   "outputs": [],
   "source": [
    "def create_labeled_img(img, coords, color):\n",
    "    x, y, w, h = coords\n",
    "    labeled_img = cv2.rectangle(img, (x, y), (x + w, y + h), color, 2)\n",
    "    return labeled_img\n",
    "\n",
    "\n",
    "def create_cropped_img(img, coords):\n",
    "    x, y, w, h = coords\n",
    "    cropped_img = img[x:x + w, y: y + h]\n",
    "    return cropped_img\n",
    "\n",
    "\n",
    "img = cv2.imread('B4-058.tif', 0)\n",
    "nucleus_coords = [537, 586, 259, 274]\n",
    "vacuole_coords = [1280, 1358, 560, 518]\n",
    "cytoplasm_coords = [767, 211, 253, 253]\n",
    "apb_coords = [1052, 1086, 142, 137]\n",
    "nucleus = create_cropped_img(img, nucleus_coords)\n",
    "labeled_img = (img, nucleus_coords, (0, 255, 0), 2)\n",
    "vacuole = create_cropped_img(img, vacuole_coords)\n",
    "labeled_img = (labeled_img, vacuole_coords, (0, 255, 0), 2)\n",
    "cytoplasm = create_cropped_img(img, cytoplasm_coords)\n",
    "labeled_img = (labeled_img, cytoplasm_coords, (0, 255, 0), 2)\n",
    "apb = create_cropped_img(img, apb_coords)\n",
    "labeled_img = (labeled_img, apb_coords, (255, 0, 0), 2)\n",
    "\n",
    "cv2.imshow('labeled_img', img)"
   ]
  },
  {
   "cell_type": "code",
   "execution_count": null,
   "metadata": {
    "pycharm": {
     "name": "#%%\n"
    }
   },
   "outputs": [],
   "source": []
  },
  {
   "cell_type": "code",
   "execution_count": null,
   "metadata": {},
   "outputs": [],
   "source": []
  },
  {
   "cell_type": "code",
   "execution_count": null,
   "metadata": {},
   "outputs": [],
   "source": []
  }
 ],
 "metadata": {
  "kernelspec": {
   "display_name": "Python 3 (ipykernel)",
   "language": "python",
   "name": "python3"
  },
  "language_info": {
   "codemirror_mode": {
    "name": "ipython",
    "version": 3
   },
   "file_extension": ".py",
   "mimetype": "text/x-python",
   "name": "python",
   "nbconvert_exporter": "python",
   "pygments_lexer": "ipython3",
   "version": "3.10.10"
  }
 },
 "nbformat": 4,
 "nbformat_minor": 1
}
